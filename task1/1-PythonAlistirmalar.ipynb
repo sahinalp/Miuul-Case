{
 "cells": [
  {
   "cell_type": "markdown",
   "id": "16080590-eeb5-43e2-942b-9444299fa1ee",
   "metadata": {},
   "source": [
    "Task-2"
   ]
  },
  {
   "cell_type": "code",
   "execution_count": 23,
   "id": "e4f917df-56c5-4cf7-8bfd-845faa54be84",
   "metadata": {
    "tags": []
   },
   "outputs": [],
   "source": [
    "text=\"The goal is to turn data into information, and information into insight.\""
   ]
  },
  {
   "cell_type": "code",
   "execution_count": 24,
   "id": "784b260c-bc45-4f25-bcb6-7a7dfffd8165",
   "metadata": {
    "tags": []
   },
   "outputs": [],
   "source": [
    "text=text.replace(\",\",\"\")"
   ]
  },
  {
   "cell_type": "code",
   "execution_count": 25,
   "id": "e25529f1-cd38-4332-8b95-e8144fdd817d",
   "metadata": {
    "tags": []
   },
   "outputs": [],
   "source": [
    "text=text.replace(\".\",\"\")"
   ]
  },
  {
   "cell_type": "code",
   "execution_count": 26,
   "id": "b8b4e6b4-1cc4-4293-ac6b-b858f406bff3",
   "metadata": {
    "tags": []
   },
   "outputs": [
    {
     "data": {
      "text/plain": [
       "['The',\n",
       " 'goal',\n",
       " 'is',\n",
       " 'to',\n",
       " 'turn',\n",
       " 'data',\n",
       " 'into',\n",
       " 'information',\n",
       " 'and',\n",
       " 'information',\n",
       " 'into',\n",
       " 'insight']"
      ]
     },
     "execution_count": 26,
     "metadata": {},
     "output_type": "execute_result"
    }
   ],
   "source": [
    "text=text.split()\n",
    "text"
   ]
  },
  {
   "cell_type": "code",
   "execution_count": 27,
   "id": "249670cf-907c-4147-ab27-7e652980c98d",
   "metadata": {
    "tags": []
   },
   "outputs": [],
   "source": [
    "result=list(map(lambda x: x.upper(),text))"
   ]
  },
  {
   "cell_type": "code",
   "execution_count": 28,
   "id": "f110c123-41e8-48b7-baa2-d7a3094724e2",
   "metadata": {
    "tags": []
   },
   "outputs": [
    {
     "data": {
      "text/plain": [
       "['THE',\n",
       " 'GOAL',\n",
       " 'IS',\n",
       " 'TO',\n",
       " 'TURN',\n",
       " 'DATA',\n",
       " 'INTO',\n",
       " 'INFORMATION',\n",
       " 'AND',\n",
       " 'INFORMATION',\n",
       " 'INTO',\n",
       " 'INSIGHT']"
      ]
     },
     "execution_count": 28,
     "metadata": {},
     "output_type": "execute_result"
    }
   ],
   "source": [
    "result"
   ]
  },
  {
   "cell_type": "markdown",
   "id": "36c0ec60-2b44-4637-b9e6-2f42050b3f98",
   "metadata": {},
   "source": [
    "Task-3"
   ]
  },
  {
   "cell_type": "code",
   "execution_count": 29,
   "id": "64cd685a-407f-4153-835e-a28bd0da600f",
   "metadata": {
    "tags": []
   },
   "outputs": [],
   "source": [
    "lst=[\"D\",\"A\",\"T\",\"A\",\"S\",\"C\",\"I\",\"E\",\"N\",\"C\",\"E\"]"
   ]
  },
  {
   "cell_type": "code",
   "execution_count": 30,
   "id": "67973e0a-1f5f-45dd-a638-81c287c49490",
   "metadata": {
    "tags": []
   },
   "outputs": [
    {
     "data": {
      "text/plain": [
       "11"
      ]
     },
     "execution_count": 30,
     "metadata": {},
     "output_type": "execute_result"
    }
   ],
   "source": [
    "len(lst)"
   ]
  },
  {
   "cell_type": "code",
   "execution_count": 31,
   "id": "e16ef0e1-eded-41a2-9a02-0e151cb2df24",
   "metadata": {
    "tags": []
   },
   "outputs": [
    {
     "data": {
      "text/plain": [
       "('D', 'E')"
      ]
     },
     "execution_count": 31,
     "metadata": {},
     "output_type": "execute_result"
    }
   ],
   "source": [
    "lst[0],lst[10]"
   ]
  },
  {
   "cell_type": "code",
   "execution_count": 34,
   "id": "57192163-c814-4ecc-892f-521dd7d65f07",
   "metadata": {
    "tags": []
   },
   "outputs": [
    {
     "data": {
      "text/plain": [
       "['D', 'A', 'T', 'A']"
      ]
     },
     "execution_count": 34,
     "metadata": {},
     "output_type": "execute_result"
    }
   ],
   "source": [
    "lst[0:4]"
   ]
  },
  {
   "cell_type": "code",
   "execution_count": 36,
   "id": "beefca92-0b69-4a26-9c62-b471f20e4b1d",
   "metadata": {
    "tags": []
   },
   "outputs": [],
   "source": [
    "lst.remove(lst[8])"
   ]
  },
  {
   "cell_type": "code",
   "execution_count": 38,
   "id": "3a83c40d-836f-45ab-8263-addcac572ed7",
   "metadata": {
    "tags": []
   },
   "outputs": [],
   "source": [
    "lst.insert(8,\"N\")"
   ]
  },
  {
   "cell_type": "markdown",
   "id": "d32147d2-db47-4dee-b73f-3ceba75fdbb6",
   "metadata": {
    "tags": []
   },
   "source": [
    "Task-4"
   ]
  },
  {
   "cell_type": "code",
   "execution_count": 40,
   "id": "9a19f1fd-f3a5-4f9f-b967-3eaa8a6292d5",
   "metadata": {
    "tags": []
   },
   "outputs": [],
   "source": [
    "dct={\"Christian\":[\"America\",18],\n",
    "     \"Daisy\":[\"England\",12],\n",
    "     \"Antonio\":[\"Spain\",22],\n",
    "     \"Dante\":[\"Italy\",25]\n",
    "}"
   ]
  },
  {
   "cell_type": "code",
   "execution_count": 41,
   "id": "e004e563-f9bd-4d67-ba3f-607ac9945ab9",
   "metadata": {
    "tags": []
   },
   "outputs": [
    {
     "data": {
      "text/plain": [
       "dict_keys(['Christian', 'Daisy', 'Antonio', 'Dante'])"
      ]
     },
     "execution_count": 41,
     "metadata": {},
     "output_type": "execute_result"
    }
   ],
   "source": [
    "dct.keys()"
   ]
  },
  {
   "cell_type": "code",
   "execution_count": 45,
   "id": "ba121c1d-05a6-4f09-989a-037981233e8d",
   "metadata": {
    "tags": []
   },
   "outputs": [
    {
     "data": {
      "text/plain": [
       "dict_values([['America', 18], ['England', 12], ['Spain', 22], ['Italy', 25]])"
      ]
     },
     "execution_count": 45,
     "metadata": {},
     "output_type": "execute_result"
    }
   ],
   "source": [
    "dct.values()"
   ]
  },
  {
   "cell_type": "code",
   "execution_count": 47,
   "id": "498eb136-19f2-4f35-afd6-30d49ea4dd5b",
   "metadata": {
    "tags": []
   },
   "outputs": [],
   "source": [
    "dct[\"Daisy\"][1]=13"
   ]
  },
  {
   "cell_type": "code",
   "execution_count": 48,
   "id": "1a903498-5b3d-47c9-a58e-1a488e64826c",
   "metadata": {
    "tags": []
   },
   "outputs": [],
   "source": [
    "dct[\"Ahmet\"]=[\"Turkey\",24]"
   ]
  },
  {
   "cell_type": "code",
   "execution_count": 49,
   "id": "d603c50d-0600-420c-9959-0d25a9766581",
   "metadata": {
    "tags": []
   },
   "outputs": [
    {
     "data": {
      "text/plain": [
       "{'Christian': ['America', 18],\n",
       " 'Daisy': ['England', 13],\n",
       " 'Antonio': ['Spain', 22],\n",
       " 'Dante': ['Italy', 25],\n",
       " 'Ahmet': ['Turkey', 24]}"
      ]
     },
     "execution_count": 49,
     "metadata": {},
     "output_type": "execute_result"
    }
   ],
   "source": [
    "dct"
   ]
  },
  {
   "cell_type": "code",
   "execution_count": 50,
   "id": "368ef9ba-7256-4399-893c-0f44a67b5a06",
   "metadata": {
    "tags": []
   },
   "outputs": [
    {
     "data": {
      "text/plain": [
       "['Spain', 22]"
      ]
     },
     "execution_count": 50,
     "metadata": {},
     "output_type": "execute_result"
    }
   ],
   "source": [
    "dct.pop(\"Antonio\")"
   ]
  },
  {
   "cell_type": "code",
   "execution_count": 51,
   "id": "18b6ebfa-cc7e-43c4-a57f-74eeb66553b4",
   "metadata": {
    "tags": []
   },
   "outputs": [
    {
     "data": {
      "text/plain": [
       "{'Christian': ['America', 18],\n",
       " 'Daisy': ['England', 13],\n",
       " 'Dante': ['Italy', 25],\n",
       " 'Ahmet': ['Turkey', 24]}"
      ]
     },
     "execution_count": 51,
     "metadata": {},
     "output_type": "execute_result"
    }
   ],
   "source": [
    "dct"
   ]
  },
  {
   "cell_type": "markdown",
   "id": "798fbe9f-0064-4188-905b-5399c1f40ca8",
   "metadata": {},
   "source": [
    "Task-5"
   ]
  },
  {
   "cell_type": "code",
   "execution_count": 52,
   "id": "9aa0d18a-9143-48c6-ab35-6e204dc85292",
   "metadata": {
    "tags": []
   },
   "outputs": [],
   "source": [
    "l=[2,13,18,93,22]"
   ]
  },
  {
   "cell_type": "code",
   "execution_count": 65,
   "id": "4f17aaeb-03f9-43ba-9569-d98ddea8c9d5",
   "metadata": {
    "tags": []
   },
   "outputs": [],
   "source": [
    "def odd_even_finder(lst):\n",
    "    result=[[],[]]\n",
    "    for num in lst:\n",
    "        if num%2==0:\n",
    "            result[0].append(num)\n",
    "        else:\n",
    "            result[1].append(num)\n",
    "    return result[0],result[1]\n",
    "            "
   ]
  },
  {
   "cell_type": "code",
   "execution_count": 66,
   "id": "110f93fc-28b8-4a87-84c7-d946688d3514",
   "metadata": {
    "tags": []
   },
   "outputs": [],
   "source": [
    "even_list,odd_list=odd_even_finder(l)"
   ]
  },
  {
   "cell_type": "code",
   "execution_count": 67,
   "id": "4ed3d0ed-d3d9-4e44-80ea-dd0821c0104a",
   "metadata": {
    "tags": []
   },
   "outputs": [
    {
     "data": {
      "text/plain": [
       "([2, 18, 22], [13, 93])"
      ]
     },
     "execution_count": 67,
     "metadata": {},
     "output_type": "execute_result"
    }
   ],
   "source": [
    "even_list,odd_list"
   ]
  },
  {
   "cell_type": "markdown",
   "id": "c5459ecb-a7de-47ad-9009-8a00c3b965ba",
   "metadata": {},
   "source": [
    "Task-6"
   ]
  },
  {
   "cell_type": "code",
   "execution_count": 68,
   "id": "6b7517a0-5175-4cc6-b2e9-d142f22f5f17",
   "metadata": {
    "tags": []
   },
   "outputs": [],
   "source": [
    "ogrenciler=[\"Ali\",\"Veli\",\"Ayşe\",\"Talat\",\"Zeynep\",\"Ece\"]"
   ]
  },
  {
   "cell_type": "code",
   "execution_count": 73,
   "id": "2a7e3b54-a3d8-47ba-abb2-3e1a0fd0a23c",
   "metadata": {
    "tags": []
   },
   "outputs": [
    {
     "name": "stdout",
     "output_type": "stream",
     "text": [
      "Mühendislik Fakültesi 1 . öğrenci:  Ali\n",
      "Mühendislik Fakültesi 2 . öğrenci:  Veli\n",
      "Mühendislik Fakültesi 3 . öğrenci:  Ayşe\n",
      "Tıp Fakültesi 1 . öğrenci:  Talat\n",
      "Tıp Fakültesi 2 . öğrenci:  Zeynep\n",
      "Tıp Fakültesi 3 . öğrenci:  Ece\n"
     ]
    }
   ],
   "source": [
    "for index,student in enumerate(ogrenciler,1):\n",
    "    if index<=3:\n",
    "        print(f\"Mühendislik Fakültesi {index} . öğrenci:  {student}\")\n",
    "    else:\n",
    "        print(f\"Tıp Fakültesi {index-3} . öğrenci:  {student}\")"
   ]
  },
  {
   "cell_type": "markdown",
   "id": "0ecc0c91-c439-4434-aae6-b4df6b14744e",
   "metadata": {},
   "source": [
    "Task-7"
   ]
  },
  {
   "cell_type": "code",
   "execution_count": 74,
   "id": "1cc11726-1524-4280-92ea-b918cb3748cc",
   "metadata": {
    "tags": []
   },
   "outputs": [],
   "source": [
    "ders_kodu=[\"CMP1005\",\"PSY1001\",\"HUK1005\",\"SEN2204\"]\n",
    "kredi=[3,4,2,4]\n",
    "kontenjan=[30,75,150,25]"
   ]
  },
  {
   "cell_type": "code",
   "execution_count": 76,
   "id": "f7fa8bb1-92bc-4fc4-88b2-61317374e2fb",
   "metadata": {
    "tags": []
   },
   "outputs": [],
   "source": [
    "lst=zip(ders_kodu,kredi,kontenjan)"
   ]
  },
  {
   "cell_type": "code",
   "execution_count": 77,
   "id": "64fe9866-ace4-4c2a-afab-58ca14b8e1b7",
   "metadata": {
    "tags": []
   },
   "outputs": [
    {
     "name": "stdout",
     "output_type": "stream",
     "text": [
      "Kredisi 3 olan CMP1005 kodlu dersin kontenjanı 30 kişidir.\n",
      "Kredisi 4 olan PSY1001 kodlu dersin kontenjanı 75 kişidir.\n",
      "Kredisi 2 olan HUK1005 kodlu dersin kontenjanı 150 kişidir.\n",
      "Kredisi 4 olan SEN2204 kodlu dersin kontenjanı 25 kişidir.\n"
     ]
    }
   ],
   "source": [
    "for i,j,k in lst:\n",
    "    print(f\"Kredisi {j} olan {i} kodlu dersin kontenjanı {k} kişidir.\")"
   ]
  },
  {
   "cell_type": "markdown",
   "id": "db2d5dc5-981c-415c-b42f-2bcfcfeb904a",
   "metadata": {},
   "source": [
    "Task-8"
   ]
  },
  {
   "cell_type": "code",
   "execution_count": 78,
   "id": "07420c6f-4204-48df-ace2-cfd3737f989c",
   "metadata": {
    "tags": []
   },
   "outputs": [],
   "source": [
    "kume1=set([\"data\",\"python\"])\n",
    "kume2=set([\"data\",\"function\",\"qcut\",\"lambda\",\"python\",\"miuul\"])"
   ]
  },
  {
   "cell_type": "code",
   "execution_count": 81,
   "id": "5a2d081f-28d4-4663-b3fa-8b8c1b433b1c",
   "metadata": {
    "tags": []
   },
   "outputs": [
    {
     "name": "stdout",
     "output_type": "stream",
     "text": [
      "{'function', 'miuul', 'qcut', 'lambda'}\n"
     ]
    }
   ],
   "source": [
    "if kume1.issuperset(kume2):\n",
    "    print(kume1.intersection(kume2))\n",
    "else:\n",
    "    print(kume2-kume1)"
   ]
  }
 ],
 "metadata": {
  "kernelspec": {
   "display_name": "Python 3 (ipykernel)",
   "language": "python",
   "name": "python3"
  },
  "language_info": {
   "codemirror_mode": {
    "name": "ipython",
    "version": 3
   },
   "file_extension": ".py",
   "mimetype": "text/x-python",
   "name": "python",
   "nbconvert_exporter": "python",
   "pygments_lexer": "ipython3",
   "version": "3.10.7"
  }
 },
 "nbformat": 4,
 "nbformat_minor": 5
}
