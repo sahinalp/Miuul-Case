{
 "cells": [
  {
   "cell_type": "code",
   "execution_count": 1,
   "metadata": {},
   "outputs": [],
   "source": [
    "import pandas as pd\n",
    "import numpy as np"
   ]
  },
  {
   "cell_type": "code",
   "execution_count": 2,
   "metadata": {},
   "outputs": [],
   "source": [
    "from preprocessingHelper import PreprocessingHelper"
   ]
  },
  {
   "cell_type": "code",
   "execution_count": 3,
   "metadata": {},
   "outputs": [],
   "source": [
    "df=pd.read_csv(\"Telco-Customer-Churn.csv\")"
   ]
  },
  {
   "cell_type": "code",
   "execution_count": 4,
   "metadata": {},
   "outputs": [],
   "source": [
    "df.columns=[col.upper() for col in df.columns]"
   ]
  },
  {
   "cell_type": "code",
   "execution_count": 5,
   "metadata": {},
   "outputs": [],
   "source": [
    "pp=PreprocessingHelper(dataframe=df)"
   ]
  },
  {
   "cell_type": "markdown",
   "metadata": {},
   "source": [
    "## Data Analysis"
   ]
  },
  {
   "cell_type": "code",
   "execution_count": 6,
   "metadata": {},
   "outputs": [
    {
     "name": "stdout",
     "output_type": "stream",
     "text": [
      "##################### Shape #####################\n",
      "(7043, 21)\n",
      "##################### Describe #####################\n",
      "                 count       mean        std    min   25%    50%    75%  \\\n",
      "SENIORCITIZEN   7043.0   0.162147   0.368612   0.00   0.0   0.00   0.00   \n",
      "TENURE          7043.0  32.371149  24.559481   0.00   9.0  29.00  55.00   \n",
      "MONTHLYCHARGES  7043.0  64.761692  30.090047  18.25  35.5  70.35  89.85   \n",
      "\n",
      "                   max  \n",
      "SENIORCITIZEN     1.00  \n",
      "TENURE           72.00  \n",
      "MONTHLYCHARGES  118.75  \n",
      "##################### Info #####################\n",
      "<class 'pandas.core.frame.DataFrame'>\n",
      "RangeIndex: 7043 entries, 0 to 7042\n",
      "Data columns (total 21 columns):\n",
      " #   Column            Non-Null Count  Dtype  \n",
      "---  ------            --------------  -----  \n",
      " 0   CUSTOMERID        7043 non-null   object \n",
      " 1   GENDER            7043 non-null   object \n",
      " 2   SENIORCITIZEN     7043 non-null   int64  \n",
      " 3   PARTNER           7043 non-null   object \n",
      " 4   DEPENDENTS        7043 non-null   object \n",
      " 5   TENURE            7043 non-null   int64  \n",
      " 6   PHONESERVICE      7043 non-null   object \n",
      " 7   MULTIPLELINES     7043 non-null   object \n",
      " 8   INTERNETSERVICE   7043 non-null   object \n",
      " 9   ONLINESECURITY    7043 non-null   object \n",
      " 10  ONLINEBACKUP      7043 non-null   object \n",
      " 11  DEVICEPROTECTION  7043 non-null   object \n",
      " 12  TECHSUPPORT       7043 non-null   object \n",
      " 13  STREAMINGTV       7043 non-null   object \n",
      " 14  STREAMINGMOVIES   7043 non-null   object \n",
      " 15  CONTRACT          7043 non-null   object \n",
      " 16  PAPERLESSBILLING  7043 non-null   object \n",
      " 17  PAYMENTMETHOD     7043 non-null   object \n",
      " 18  MONTHLYCHARGES    7043 non-null   float64\n",
      " 19  TOTALCHARGES      7043 non-null   object \n",
      " 20  CHURN             7043 non-null   object \n",
      "dtypes: float64(1), int64(2), object(18)\n",
      "memory usage: 1.1+ MB\n",
      "None\n",
      "##################### Head #####################\n",
      "   CUSTOMERID  GENDER  SENIORCITIZEN PARTNER DEPENDENTS  TENURE PHONESERVICE  \\\n",
      "0  7590-VHVEG  Female              0     Yes         No       1           No   \n",
      "1  5575-GNVDE    Male              0      No         No      34          Yes   \n",
      "2  3668-QPYBK    Male              0      No         No       2          Yes   \n",
      "3  7795-CFOCW    Male              0      No         No      45           No   \n",
      "4  9237-HQITU  Female              0      No         No       2          Yes   \n",
      "\n",
      "      MULTIPLELINES INTERNETSERVICE ONLINESECURITY  ... DEVICEPROTECTION  \\\n",
      "0  No phone service             DSL             No  ...               No   \n",
      "1                No             DSL            Yes  ...              Yes   \n",
      "2                No             DSL            Yes  ...               No   \n",
      "3  No phone service             DSL            Yes  ...              Yes   \n",
      "4                No     Fiber optic             No  ...               No   \n",
      "\n",
      "  TECHSUPPORT STREAMINGTV STREAMINGMOVIES        CONTRACT PAPERLESSBILLING  \\\n",
      "0          No          No              No  Month-to-month              Yes   \n",
      "1          No          No              No        One year               No   \n",
      "2          No          No              No  Month-to-month              Yes   \n",
      "3         Yes          No              No        One year               No   \n",
      "4          No          No              No  Month-to-month              Yes   \n",
      "\n",
      "               PAYMENTMETHOD MONTHLYCHARGES  TOTALCHARGES CHURN  \n",
      "0           Electronic check          29.85         29.85    No  \n",
      "1               Mailed check          56.95        1889.5    No  \n",
      "2               Mailed check          53.85        108.15   Yes  \n",
      "3  Bank transfer (automatic)          42.30       1840.75    No  \n",
      "4           Electronic check          70.70        151.65   Yes  \n",
      "\n",
      "[5 rows x 21 columns]\n",
      "##################### Tail #####################\n",
      "      CUSTOMERID  GENDER  SENIORCITIZEN PARTNER DEPENDENTS  TENURE  \\\n",
      "7038  6840-RESVB    Male              0     Yes        Yes      24   \n",
      "7039  2234-XADUH  Female              0     Yes        Yes      72   \n",
      "7040  4801-JZAZL  Female              0     Yes        Yes      11   \n",
      "7041  8361-LTMKD    Male              1     Yes         No       4   \n",
      "7042  3186-AJIEK    Male              0      No         No      66   \n",
      "\n",
      "     PHONESERVICE     MULTIPLELINES INTERNETSERVICE ONLINESECURITY  ...  \\\n",
      "7038          Yes               Yes             DSL            Yes  ...   \n",
      "7039          Yes               Yes     Fiber optic             No  ...   \n",
      "7040           No  No phone service             DSL            Yes  ...   \n",
      "7041          Yes               Yes     Fiber optic             No  ...   \n",
      "7042          Yes                No     Fiber optic            Yes  ...   \n",
      "\n",
      "     DEVICEPROTECTION TECHSUPPORT STREAMINGTV STREAMINGMOVIES        CONTRACT  \\\n",
      "7038              Yes         Yes         Yes             Yes        One year   \n",
      "7039              Yes          No         Yes             Yes        One year   \n",
      "7040               No          No          No              No  Month-to-month   \n",
      "7041               No          No          No              No  Month-to-month   \n",
      "7042              Yes         Yes         Yes             Yes        Two year   \n",
      "\n",
      "     PAPERLESSBILLING              PAYMENTMETHOD MONTHLYCHARGES  TOTALCHARGES  \\\n",
      "7038              Yes               Mailed check          84.80        1990.5   \n",
      "7039              Yes    Credit card (automatic)         103.20        7362.9   \n",
      "7040              Yes           Electronic check          29.60        346.45   \n",
      "7041              Yes               Mailed check          74.40         306.6   \n",
      "7042              Yes  Bank transfer (automatic)         105.65        6844.5   \n",
      "\n",
      "     CHURN  \n",
      "7038    No  \n",
      "7039    No  \n",
      "7040    No  \n",
      "7041   Yes  \n",
      "7042    No  \n",
      "\n",
      "[5 rows x 21 columns]\n",
      "##################### NA #####################\n",
      "CUSTOMERID          0\n",
      "GENDER              0\n",
      "SENIORCITIZEN       0\n",
      "PARTNER             0\n",
      "DEPENDENTS          0\n",
      "TENURE              0\n",
      "PHONESERVICE        0\n",
      "MULTIPLELINES       0\n",
      "INTERNETSERVICE     0\n",
      "ONLINESECURITY      0\n",
      "ONLINEBACKUP        0\n",
      "DEVICEPROTECTION    0\n",
      "TECHSUPPORT         0\n",
      "STREAMINGTV         0\n",
      "STREAMINGMOVIES     0\n",
      "CONTRACT            0\n",
      "PAPERLESSBILLING    0\n",
      "PAYMENTMETHOD       0\n",
      "MONTHLYCHARGES      0\n",
      "TOTALCHARGES        0\n",
      "CHURN               0\n",
      "dtype: int64\n"
     ]
    }
   ],
   "source": [
    "pp.checkDf()"
   ]
  },
  {
   "cell_type": "code",
   "execution_count": 7,
   "metadata": {},
   "outputs": [],
   "source": [
    "df.loc[df[\"TOTALCHARGES\"]==\" \",\"TOTALCHARGES\"]=np.NaN"
   ]
  },
  {
   "cell_type": "code",
   "execution_count": 8,
   "metadata": {},
   "outputs": [],
   "source": [
    "df.loc[(df[\"TENURE\"]==0)&(df[\"MONTHLYCHARGES\"]!=0),\"TENURE\"]=np.NaN"
   ]
  },
  {
   "cell_type": "code",
   "execution_count": 9,
   "metadata": {},
   "outputs": [
    {
     "name": "stdout",
     "output_type": "stream",
     "text": [
      "              Count     Ratio\n",
      "TENURE           11  0.001562\n",
      "TOTALCHARGES     11  0.001562\n"
     ]
    }
   ],
   "source": [
    "pp.missingValuesTable()"
   ]
  },
  {
   "cell_type": "code",
   "execution_count": 10,
   "metadata": {},
   "outputs": [],
   "source": [
    "df[\"TOTALCHARGES\"]=df[\"TOTALCHARGES\"].apply(pd.to_numeric)"
   ]
  },
  {
   "cell_type": "code",
   "execution_count": 11,
   "metadata": {},
   "outputs": [
    {
     "name": "stdout",
     "output_type": "stream",
     "text": [
      "Observations = 7043\n",
      "\n",
      "Variables = 21\n",
      "\n",
      "catorical columns = 17\n",
      "\n",
      "catorical but cardinal columns = 1\n",
      "\n",
      "numerical columns = 3\n",
      "\n",
      "numerical but categorical columns = 1\n",
      "\n"
     ]
    }
   ],
   "source": [
    "cat_cols,cat_but_car,num_cols=pp.grabColNames()"
   ]
  },
  {
   "cell_type": "code",
   "execution_count": 12,
   "metadata": {},
   "outputs": [
    {
     "name": "stdout",
     "output_type": "stream",
     "text": [
      "        GENDER     Ratio\n",
      "Male      3555  50.47565\n",
      "Female    3488  49.52435\n",
      "##########################################\n",
      "     PARTNER     Ratio\n",
      "No      3641  51.69672\n",
      "Yes     3402  48.30328\n",
      "##########################################\n",
      "     DEPENDENTS      Ratio\n",
      "No         4933  70.041176\n",
      "Yes        2110  29.958824\n",
      "##########################################\n",
      "     PHONESERVICE      Ratio\n",
      "Yes          6361  90.316626\n",
      "No            682   9.683374\n",
      "##########################################\n",
      "                  MULTIPLELINES      Ratio\n",
      "No                         3390  48.132898\n",
      "Yes                        2971  42.183729\n",
      "No phone service            682   9.683374\n",
      "##########################################\n",
      "             INTERNETSERVICE      Ratio\n",
      "Fiber optic             3096  43.958540\n",
      "DSL                     2421  34.374556\n",
      "No                      1526  21.666903\n",
      "##########################################\n",
      "                     ONLINESECURITY      Ratio\n",
      "No                             3498  49.666335\n",
      "Yes                            2019  28.666761\n",
      "No internet service            1526  21.666903\n",
      "##########################################\n",
      "                     ONLINEBACKUP      Ratio\n",
      "No                           3088  43.844952\n",
      "Yes                          2429  34.488144\n",
      "No internet service          1526  21.666903\n",
      "##########################################\n",
      "                     DEVICEPROTECTION      Ratio\n",
      "No                               3095  43.944342\n",
      "Yes                              2422  34.388755\n",
      "No internet service              1526  21.666903\n",
      "##########################################\n",
      "                     TECHSUPPORT      Ratio\n",
      "No                          3473  49.311373\n",
      "Yes                         2044  29.021724\n",
      "No internet service         1526  21.666903\n",
      "##########################################\n",
      "                     STREAMINGTV      Ratio\n",
      "No                          2810  39.897771\n",
      "Yes                         2707  38.435326\n",
      "No internet service         1526  21.666903\n",
      "##########################################\n",
      "                     STREAMINGMOVIES      Ratio\n",
      "No                              2785  39.542808\n",
      "Yes                             2732  38.790288\n",
      "No internet service             1526  21.666903\n",
      "##########################################\n",
      "                CONTRACT      Ratio\n",
      "Month-to-month      3875  55.019168\n",
      "Two year            1695  24.066449\n",
      "One year            1473  20.914383\n",
      "##########################################\n",
      "     PAPERLESSBILLING      Ratio\n",
      "Yes              4171  59.221922\n",
      "No               2872  40.778078\n",
      "##########################################\n",
      "                           PAYMENTMETHOD      Ratio\n",
      "Electronic check                    2365  33.579441\n",
      "Mailed check                        1612  22.887974\n",
      "Bank transfer (automatic)           1544  21.922476\n",
      "Credit card (automatic)             1522  21.610109\n",
      "##########################################\n",
      "     CHURN      Ratio\n",
      "No    5174  73.463013\n",
      "Yes   1869  26.536987\n",
      "##########################################\n",
      "   SENIORCITIZEN      Ratio\n",
      "0           5901  83.785319\n",
      "1           1142  16.214681\n",
      "##########################################\n"
     ]
    }
   ],
   "source": [
    "for col in cat_cols:\n",
    "    pp.catSummary(col_name=col)"
   ]
  },
  {
   "cell_type": "code",
   "execution_count": 13,
   "metadata": {},
   "outputs": [
    {
     "name": "stdout",
     "output_type": "stream",
     "text": [
      "         count       mean       std  min   5%  10%  20%   30%   40%   50%  \\\n",
      "TENURE  7032.0  32.421786  24.54526  1.0  1.0  2.0  6.0  12.0  20.0  29.0   \n",
      "\n",
      "         60%   70%   80%   90%   95%   99%   max  \n",
      "TENURE  40.0  50.0  60.8  69.0  72.0  72.0  72.0  \n",
      "\n"
     ]
    },
    {
     "data": {
      "image/png": "[encoded data removed]",
      "text/plain": [
       "<Figure size 640x480 with 1 Axes>"
      ]
     },
     "metadata": {},
     "output_type": "display_data"
    },
    {
     "name": "stdout",
     "output_type": "stream",
     "text": [
      "                 count       mean        std    min     5%    10%    20%  \\\n",
      "MONTHLYCHARGES  7043.0  64.761692  30.090047  18.25  19.65  20.05  25.05   \n",
      "\n",
      "                  30%    40%    50%   60%   70%    80%    90%    95%      99%  \\\n",
      "MONTHLYCHARGES  45.85  58.83  70.35  79.1  85.5  94.25  102.6  107.4  114.729   \n",
      "\n",
      "                   max  \n",
      "MONTHLYCHARGES  118.75  \n",
      "\n"
     ]
    },
    {
     "data": {
      "image/png": "[encoded data removed]",
      "text/plain": [
       "<Figure size 640x480 with 1 Axes>"
      ]
     },
     "metadata": {},
     "output_type": "display_data"
    },
    {
     "name": "stdout",
     "output_type": "stream",
     "text": [
      "               count         mean          std   min      5%   10%     20%  \\\n",
      "TOTALCHARGES  7032.0  2283.300441  2266.771362  18.8  49.605  84.6  267.07   \n",
      "\n",
      "                  30%     40%       50%      60%      70%      80%      90%  \\\n",
      "TOTALCHARGES  551.995  944.17  1397.475  2048.95  3141.13  4475.41  5976.64   \n",
      "\n",
      "                  95%       99%     max  \n",
      "TOTALCHARGES  6923.59  8039.883  8684.8  \n",
      "\n"
     ]
    },
    {
     "data": {
      "image/png": "[encoded data removed]",
      "text/plain": [
       "<Figure size 640x480 with 1 Axes>"
      ]
     },
     "metadata": {},
     "output_type": "display_data"
    }
   ],
   "source": [
    "for col in num_cols:\n",
    "    pp.numSummary(numerical_col=col,plot=True)"
   ]
  },
  {
   "cell_type": "code",
   "execution_count": 14,
   "metadata": {},
   "outputs": [],
   "source": [
    "df[\"CHURN\"]=df[\"CHURN\"].apply(lambda x: 1 if x==\"Yes\" else 0)"
   ]
  },
  {
   "cell_type": "code",
   "execution_count": 15,
   "metadata": {},
   "outputs": [
    {
     "name": "stdout",
     "output_type": "stream",
     "text": [
      "        CHURN_Mean\n",
      "GENDER            \n",
      "Female    0.269209\n",
      "Male      0.261603\n",
      "\n",
      "\n",
      "##########################################\n",
      "\n",
      "         CHURN_Mean\n",
      "PARTNER            \n",
      "No         0.329580\n",
      "Yes        0.196649\n",
      "\n",
      "\n",
      "##########################################\n",
      "\n",
      "            CHURN_Mean\n",
      "DEPENDENTS            \n",
      "No            0.312791\n",
      "Yes           0.154502\n",
      "\n",
      "\n",
      "##########################################\n",
      "\n",
      "              CHURN_Mean\n",
      "PHONESERVICE            \n",
      "No              0.249267\n",
      "Yes             0.267096\n",
      "\n",
      "\n",
      "##########################################\n",
      "\n",
      "                  CHURN_Mean\n",
      "MULTIPLELINES               \n",
      "No                  0.250442\n",
      "No phone service    0.249267\n",
      "Yes                 0.286099\n",
      "\n",
      "\n",
      "##########################################\n",
      "\n",
      "                 CHURN_Mean\n",
      "INTERNETSERVICE            \n",
      "DSL                0.189591\n",
      "Fiber optic        0.418928\n",
      "No                 0.074050\n",
      "\n",
      "\n",
      "##########################################\n",
      "\n",
      "                     CHURN_Mean\n",
      "ONLINESECURITY                 \n",
      "No                     0.417667\n",
      "No internet service    0.074050\n",
      "Yes                    0.146112\n",
      "\n",
      "\n",
      "##########################################\n",
      "\n",
      "                     CHURN_Mean\n",
      "ONLINEBACKUP                   \n",
      "No                     0.399288\n",
      "No internet service    0.074050\n",
      "Yes                    0.215315\n",
      "\n",
      "\n",
      "##########################################\n",
      "\n",
      "                     CHURN_Mean\n",
      "DEVICEPROTECTION               \n",
      "No                     0.391276\n",
      "No internet service    0.074050\n",
      "Yes                    0.225021\n",
      "\n",
      "\n",
      "##########################################\n",
      "\n",
      "                     CHURN_Mean\n",
      "TECHSUPPORT                    \n",
      "No                     0.416355\n",
      "No internet service    0.074050\n",
      "Yes                    0.151663\n",
      "\n",
      "\n",
      "##########################################\n",
      "\n",
      "                     CHURN_Mean\n",
      "STREAMINGTV                    \n",
      "No                     0.335231\n",
      "No internet service    0.074050\n",
      "Yes                    0.300702\n",
      "\n",
      "\n",
      "##########################################\n",
      "\n",
      "                     CHURN_Mean\n",
      "STREAMINGMOVIES                \n",
      "No                     0.336804\n",
      "No internet service    0.074050\n",
      "Yes                    0.299414\n",
      "\n",
      "\n",
      "##########################################\n",
      "\n",
      "                CHURN_Mean\n",
      "CONTRACT                  \n",
      "Month-to-month    0.427097\n",
      "One year          0.112695\n",
      "Two year          0.028319\n",
      "\n",
      "\n",
      "##########################################\n",
      "\n",
      "                  CHURN_Mean\n",
      "PAPERLESSBILLING            \n",
      "No                  0.163301\n",
      "Yes                 0.335651\n",
      "\n",
      "\n",
      "##########################################\n",
      "\n",
      "                           CHURN_Mean\n",
      "PAYMENTMETHOD                        \n",
      "Bank transfer (automatic)    0.167098\n",
      "Credit card (automatic)      0.152431\n",
      "Electronic check             0.452854\n",
      "Mailed check                 0.191067\n",
      "\n",
      "\n",
      "##########################################\n",
      "\n",
      "               CHURN_Mean\n",
      "SENIORCITIZEN            \n",
      "0                0.236062\n",
      "1                0.416813\n",
      "\n",
      "\n",
      "##########################################\n",
      "\n"
     ]
    }
   ],
   "source": [
    "for col in cat_cols:\n",
    "    pp.targetSummaryWithCat(categorical_col=col,target=\"CHURN\")"
   ]
  },
  {
   "cell_type": "code",
   "execution_count": 16,
   "metadata": {},
   "outputs": [
    {
     "name": "stdout",
     "output_type": "stream",
     "text": [
      "TENURE False\n",
      "MONTHLYCHARGES False\n",
      "TOTALCHARGES False\n"
     ]
    }
   ],
   "source": [
    "for col in num_cols:\n",
    "    print(f\"{col} {pp.checkOutlier(column_name=col,q1=0.05,q3=0.95)}\")"
   ]
  },
  {
   "cell_type": "markdown",
   "metadata": {},
   "source": [
    "## Feature Engineering"
   ]
  },
  {
   "cell_type": "markdown",
   "metadata": {},
   "source": [
    "### Missing Values"
   ]
  },
  {
   "cell_type": "code",
   "execution_count": 17,
   "metadata": {},
   "outputs": [],
   "source": [
    "missing_rows=df[df.isnull().any(axis=1)]"
   ]
  },
  {
   "cell_type": "code",
   "execution_count": 18,
   "metadata": {},
   "outputs": [
    {
     "data": {
      "text/html": [
       "<div>\n",
       "<style scoped>\n",
       "    .dataframe tbody tr th:only-of-type {\n",
       "        vertical-align: middle;\n",
       "    }\n",
       "\n",
       "    .dataframe tbody tr th {\n",
       "        vertical-align: top;\n",
       "    }\n",
       "\n",
       "    .dataframe thead th {\n",
       "        text-align: right;\n",
       "    }\n",
       "</style>\n",
       "<table border=\"1\" class=\"dataframe\">\n",
       "  <thead>\n",
       "    <tr style=\"text-align: right;\">\n",
       "      <th></th>\n",
       "      <th>CUSTOMERID</th>\n",
       "      <th>GENDER</th>\n",
       "      <th>SENIORCITIZEN</th>\n",
       "      <th>PARTNER</th>\n",
       "      <th>DEPENDENTS</th>\n",
       "      <th>TENURE</th>\n",
       "      <th>PHONESERVICE</th>\n",
       "      <th>MULTIPLELINES</th>\n",
       "      <th>INTERNETSERVICE</th>\n",
       "      <th>ONLINESECURITY</th>\n",
       "      <th>...</th>\n",
       "      <th>DEVICEPROTECTION</th>\n",
       "      <th>TECHSUPPORT</th>\n",
       "      <th>STREAMINGTV</th>\n",
       "      <th>STREAMINGMOVIES</th>\n",
       "      <th>CONTRACT</th>\n",
       "      <th>PAPERLESSBILLING</th>\n",
       "      <th>PAYMENTMETHOD</th>\n",
       "      <th>MONTHLYCHARGES</th>\n",
       "      <th>TOTALCHARGES</th>\n",
       "      <th>CHURN</th>\n",
       "    </tr>\n",
       "  </thead>\n",
       "  <tbody>\n",
       "    <tr>\n",
       "      <th>488</th>\n",
       "      <td>4472-LVYGI</td>\n",
       "      <td>Female</td>\n",
       "      <td>0</td>\n",
       "      <td>Yes</td>\n",
       "      <td>Yes</td>\n",
       "      <td>NaN</td>\n",
       "      <td>No</td>\n",
       "      <td>No phone service</td>\n",
       "      <td>DSL</td>\n",
       "      <td>Yes</td>\n",
       "      <td>...</td>\n",
       "      <td>Yes</td>\n",
       "      <td>Yes</td>\n",
       "      <td>Yes</td>\n",
       "      <td>No</td>\n",
       "      <td>Two year</td>\n",
       "      <td>Yes</td>\n",
       "      <td>Bank transfer (automatic)</td>\n",
       "      <td>52.55</td>\n",
       "      <td>NaN</td>\n",
       "      <td>0</td>\n",
       "    </tr>\n",
       "    <tr>\n",
       "      <th>753</th>\n",
       "      <td>3115-CZMZD</td>\n",
       "      <td>Male</td>\n",
       "      <td>0</td>\n",
       "      <td>No</td>\n",
       "      <td>Yes</td>\n",
       "      <td>NaN</td>\n",
       "      <td>Yes</td>\n",
       "      <td>No</td>\n",
       "      <td>No</td>\n",
       "      <td>No internet service</td>\n",
       "      <td>...</td>\n",
       "      <td>No internet service</td>\n",
       "      <td>No internet service</td>\n",
       "      <td>No internet service</td>\n",
       "      <td>No internet service</td>\n",
       "      <td>Two year</td>\n",
       "      <td>No</td>\n",
       "      <td>Mailed check</td>\n",
       "      <td>20.25</td>\n",
       "      <td>NaN</td>\n",
       "      <td>0</td>\n",
       "    </tr>\n",
       "    <tr>\n",
       "      <th>936</th>\n",
       "      <td>5709-LVOEQ</td>\n",
       "      <td>Female</td>\n",
       "      <td>0</td>\n",
       "      <td>Yes</td>\n",
       "      <td>Yes</td>\n",
       "      <td>NaN</td>\n",
       "      <td>Yes</td>\n",
       "      <td>No</td>\n",
       "      <td>DSL</td>\n",
       "      <td>Yes</td>\n",
       "      <td>...</td>\n",
       "      <td>Yes</td>\n",
       "      <td>No</td>\n",
       "      <td>Yes</td>\n",
       "      <td>Yes</td>\n",
       "      <td>Two year</td>\n",
       "      <td>No</td>\n",
       "      <td>Mailed check</td>\n",
       "      <td>80.85</td>\n",
       "      <td>NaN</td>\n",
       "      <td>0</td>\n",
       "    </tr>\n",
       "    <tr>\n",
       "      <th>1082</th>\n",
       "      <td>4367-NUYAO</td>\n",
       "      <td>Male</td>\n",
       "      <td>0</td>\n",
       "      <td>Yes</td>\n",
       "      <td>Yes</td>\n",
       "      <td>NaN</td>\n",
       "      <td>Yes</td>\n",
       "      <td>Yes</td>\n",
       "      <td>No</td>\n",
       "      <td>No internet service</td>\n",
       "      <td>...</td>\n",
       "      <td>No internet service</td>\n",
       "      <td>No internet service</td>\n",
       "      <td>No internet service</td>\n",
       "      <td>No internet service</td>\n",
       "      <td>Two year</td>\n",
       "      <td>No</td>\n",
       "      <td>Mailed check</td>\n",
       "      <td>25.75</td>\n",
       "      <td>NaN</td>\n",
       "      <td>0</td>\n",
       "    </tr>\n",
       "    <tr>\n",
       "      <th>1340</th>\n",
       "      <td>1371-DWPAZ</td>\n",
       "      <td>Female</td>\n",
       "      <td>0</td>\n",
       "      <td>Yes</td>\n",
       "      <td>Yes</td>\n",
       "      <td>NaN</td>\n",
       "      <td>No</td>\n",
       "      <td>No phone service</td>\n",
       "      <td>DSL</td>\n",
       "      <td>Yes</td>\n",
       "      <td>...</td>\n",
       "      <td>Yes</td>\n",
       "      <td>Yes</td>\n",
       "      <td>Yes</td>\n",
       "      <td>No</td>\n",
       "      <td>Two year</td>\n",
       "      <td>No</td>\n",
       "      <td>Credit card (automatic)</td>\n",
       "      <td>56.05</td>\n",
       "      <td>NaN</td>\n",
       "      <td>0</td>\n",
       "    </tr>\n",
       "    <tr>\n",
       "      <th>3331</th>\n",
       "      <td>7644-OMVMY</td>\n",
       "      <td>Male</td>\n",
       "      <td>0</td>\n",
       "      <td>Yes</td>\n",
       "      <td>Yes</td>\n",
       "      <td>NaN</td>\n",
       "      <td>Yes</td>\n",
       "      <td>No</td>\n",
       "      <td>No</td>\n",
       "      <td>No internet service</td>\n",
       "      <td>...</td>\n",
       "      <td>No internet service</td>\n",
       "      <td>No internet service</td>\n",
       "      <td>No internet service</td>\n",
       "      <td>No internet service</td>\n",
       "      <td>Two year</td>\n",
       "      <td>No</td>\n",
       "      <td>Mailed check</td>\n",
       "      <td>19.85</td>\n",
       "      <td>NaN</td>\n",
       "      <td>0</td>\n",
       "    </tr>\n",
       "    <tr>\n",
       "      <th>3826</th>\n",
       "      <td>3213-VVOLG</td>\n",
       "      <td>Male</td>\n",
       "      <td>0</td>\n",
       "      <td>Yes</td>\n",
       "      <td>Yes</td>\n",
       "      <td>NaN</td>\n",
       "      <td>Yes</td>\n",
       "      <td>Yes</td>\n",
       "      <td>No</td>\n",
       "      <td>No internet service</td>\n",
       "      <td>...</td>\n",
       "      <td>No internet service</td>\n",
       "      <td>No internet service</td>\n",
       "      <td>No internet service</td>\n",
       "      <td>No internet service</td>\n",
       "      <td>Two year</td>\n",
       "      <td>No</td>\n",
       "      <td>Mailed check</td>\n",
       "      <td>25.35</td>\n",
       "      <td>NaN</td>\n",
       "      <td>0</td>\n",
       "    </tr>\n",
       "    <tr>\n",
       "      <th>4380</th>\n",
       "      <td>2520-SGTTA</td>\n",
       "      <td>Female</td>\n",
       "      <td>0</td>\n",
       "      <td>Yes</td>\n",
       "      <td>Yes</td>\n",
       "      <td>NaN</td>\n",
       "      <td>Yes</td>\n",
       "      <td>No</td>\n",
       "      <td>No</td>\n",
       "      <td>No internet service</td>\n",
       "      <td>...</td>\n",
       "      <td>No internet service</td>\n",
       "      <td>No internet service</td>\n",
       "      <td>No internet service</td>\n",
       "      <td>No internet service</td>\n",
       "      <td>Two year</td>\n",
       "      <td>No</td>\n",
       "      <td>Mailed check</td>\n",
       "      <td>20.00</td>\n",
       "      <td>NaN</td>\n",
       "      <td>0</td>\n",
       "    </tr>\n",
       "    <tr>\n",
       "      <th>5218</th>\n",
       "      <td>2923-ARZLG</td>\n",
       "      <td>Male</td>\n",
       "      <td>0</td>\n",
       "      <td>Yes</td>\n",
       "      <td>Yes</td>\n",
       "      <td>NaN</td>\n",
       "      <td>Yes</td>\n",
       "      <td>No</td>\n",
       "      <td>No</td>\n",
       "      <td>No internet service</td>\n",
       "      <td>...</td>\n",
       "      <td>No internet service</td>\n",
       "      <td>No internet service</td>\n",
       "      <td>No internet service</td>\n",
       "      <td>No internet service</td>\n",
       "      <td>One year</td>\n",
       "      <td>Yes</td>\n",
       "      <td>Mailed check</td>\n",
       "      <td>19.70</td>\n",
       "      <td>NaN</td>\n",
       "      <td>0</td>\n",
       "    </tr>\n",
       "    <tr>\n",
       "      <th>6670</th>\n",
       "      <td>4075-WKNIU</td>\n",
       "      <td>Female</td>\n",
       "      <td>0</td>\n",
       "      <td>Yes</td>\n",
       "      <td>Yes</td>\n",
       "      <td>NaN</td>\n",
       "      <td>Yes</td>\n",
       "      <td>Yes</td>\n",
       "      <td>DSL</td>\n",
       "      <td>No</td>\n",
       "      <td>...</td>\n",
       "      <td>Yes</td>\n",
       "      <td>Yes</td>\n",
       "      <td>Yes</td>\n",
       "      <td>No</td>\n",
       "      <td>Two year</td>\n",
       "      <td>No</td>\n",
       "      <td>Mailed check</td>\n",
       "      <td>73.35</td>\n",
       "      <td>NaN</td>\n",
       "      <td>0</td>\n",
       "    </tr>\n",
       "    <tr>\n",
       "      <th>6754</th>\n",
       "      <td>2775-SEFEE</td>\n",
       "      <td>Male</td>\n",
       "      <td>0</td>\n",
       "      <td>No</td>\n",
       "      <td>Yes</td>\n",
       "      <td>NaN</td>\n",
       "      <td>Yes</td>\n",
       "      <td>Yes</td>\n",
       "      <td>DSL</td>\n",
       "      <td>Yes</td>\n",
       "      <td>...</td>\n",
       "      <td>No</td>\n",
       "      <td>Yes</td>\n",
       "      <td>No</td>\n",
       "      <td>No</td>\n",
       "      <td>Two year</td>\n",
       "      <td>Yes</td>\n",
       "      <td>Bank transfer (automatic)</td>\n",
       "      <td>61.90</td>\n",
       "      <td>NaN</td>\n",
       "      <td>0</td>\n",
       "    </tr>\n",
       "  </tbody>\n",
       "</table>\n",
       "<p>11 rows × 21 columns</p>\n",
       "</div>"
      ],
      "text/plain": [
       "      CUSTOMERID  GENDER  SENIORCITIZEN PARTNER DEPENDENTS  TENURE  \\\n",
       "488   4472-LVYGI  Female              0     Yes        Yes     NaN   \n",
       "753   3115-CZMZD    Male              0      No        Yes     NaN   \n",
       "936   5709-LVOEQ  Female              0     Yes        Yes     NaN   \n",
       "1082  4367-NUYAO    Male              0     Yes        Yes     NaN   \n",
       "1340  1371-DWPAZ  Female              0     Yes        Yes     NaN   \n",
       "3331  7644-OMVMY    Male              0     Yes        Yes     NaN   \n",
       "3826  3213-VVOLG    Male              0     Yes        Yes     NaN   \n",
       "4380  2520-SGTTA  Female              0     Yes        Yes     NaN   \n",
       "5218  2923-ARZLG    Male              0     Yes        Yes     NaN   \n",
       "6670  4075-WKNIU  Female              0     Yes        Yes     NaN   \n",
       "6754  2775-SEFEE    Male              0      No        Yes     NaN   \n",
       "\n",
       "     PHONESERVICE     MULTIPLELINES INTERNETSERVICE       ONLINESECURITY  ...  \\\n",
       "488            No  No phone service             DSL                  Yes  ...   \n",
       "753           Yes                No              No  No internet service  ...   \n",
       "936           Yes                No             DSL                  Yes  ...   \n",
       "1082          Yes               Yes              No  No internet service  ...   \n",
       "1340           No  No phone service             DSL                  Yes  ...   \n",
       "3331          Yes                No              No  No internet service  ...   \n",
       "3826          Yes               Yes              No  No internet service  ...   \n",
       "4380          Yes                No              No  No internet service  ...   \n",
       "5218          Yes                No              No  No internet service  ...   \n",
       "6670          Yes               Yes             DSL                   No  ...   \n",
       "6754          Yes               Yes             DSL                  Yes  ...   \n",
       "\n",
       "         DEVICEPROTECTION          TECHSUPPORT          STREAMINGTV  \\\n",
       "488                   Yes                  Yes                  Yes   \n",
       "753   No internet service  No internet service  No internet service   \n",
       "936                   Yes                   No                  Yes   \n",
       "1082  No internet service  No internet service  No internet service   \n",
       "1340                  Yes                  Yes                  Yes   \n",
       "3331  No internet service  No internet service  No internet service   \n",
       "3826  No internet service  No internet service  No internet service   \n",
       "4380  No internet service  No internet service  No internet service   \n",
       "5218  No internet service  No internet service  No internet service   \n",
       "6670                  Yes                  Yes                  Yes   \n",
       "6754                   No                  Yes                   No   \n",
       "\n",
       "          STREAMINGMOVIES  CONTRACT PAPERLESSBILLING  \\\n",
       "488                    No  Two year              Yes   \n",
       "753   No internet service  Two year               No   \n",
       "936                   Yes  Two year               No   \n",
       "1082  No internet service  Two year               No   \n",
       "1340                   No  Two year               No   \n",
       "3331  No internet service  Two year               No   \n",
       "3826  No internet service  Two year               No   \n",
       "4380  No internet service  Two year               No   \n",
       "5218  No internet service  One year              Yes   \n",
       "6670                   No  Two year               No   \n",
       "6754                   No  Two year              Yes   \n",
       "\n",
       "                  PAYMENTMETHOD MONTHLYCHARGES  TOTALCHARGES  CHURN  \n",
       "488   Bank transfer (automatic)          52.55           NaN      0  \n",
       "753                Mailed check          20.25           NaN      0  \n",
       "936                Mailed check          80.85           NaN      0  \n",
       "1082               Mailed check          25.75           NaN      0  \n",
       "1340    Credit card (automatic)          56.05           NaN      0  \n",
       "3331               Mailed check          19.85           NaN      0  \n",
       "3826               Mailed check          25.35           NaN      0  \n",
       "4380               Mailed check          20.00           NaN      0  \n",
       "5218               Mailed check          19.70           NaN      0  \n",
       "6670               Mailed check          73.35           NaN      0  \n",
       "6754  Bank transfer (automatic)          61.90           NaN      0  \n",
       "\n",
       "[11 rows x 21 columns]"
      ]
     },
     "execution_count": 18,
     "metadata": {},
     "output_type": "execute_result"
    }
   ],
   "source": [
    "missing_rows"
   ]
  },
  {
   "cell_type": "code",
   "execution_count": 19,
   "metadata": {},
   "outputs": [
    {
     "name": "stdout",
     "output_type": "stream",
     "text": [
      "              Count     Ratio\n",
      "TENURE           11  0.001562\n",
      "TOTALCHARGES     11  0.001562\n"
     ]
    }
   ],
   "source": [
    "pp.missingValuesFiller()"
   ]
  },
  {
   "cell_type": "code",
   "execution_count": 20,
   "metadata": {},
   "outputs": [
    {
     "name": "stdout",
     "output_type": "stream",
     "text": [
      "Empty DataFrame\n",
      "Columns: [Count, Ratio]\n",
      "Index: []\n"
     ]
    }
   ],
   "source": [
    "pp.missingValuesTable()"
   ]
  },
  {
   "cell_type": "code",
   "execution_count": 21,
   "metadata": {},
   "outputs": [
    {
     "data": {
      "text/html": [
       "<div>\n",
       "<style scoped>\n",
       "    .dataframe tbody tr th:only-of-type {\n",
       "        vertical-align: middle;\n",
       "    }\n",
       "\n",
       "    .dataframe tbody tr th {\n",
       "        vertical-align: top;\n",
       "    }\n",
       "\n",
       "    .dataframe thead th {\n",
       "        text-align: right;\n",
       "    }\n",
       "</style>\n",
       "<table border=\"1\" class=\"dataframe\">\n",
       "  <thead>\n",
       "    <tr style=\"text-align: right;\">\n",
       "      <th></th>\n",
       "      <th>TENURE</th>\n",
       "      <th>TOTALCHARGES</th>\n",
       "    </tr>\n",
       "  </thead>\n",
       "  <tbody>\n",
       "    <tr>\n",
       "      <th>488</th>\n",
       "      <td>38.0</td>\n",
       "      <td>1682.050</td>\n",
       "    </tr>\n",
       "    <tr>\n",
       "      <th>753</th>\n",
       "      <td>30.5</td>\n",
       "      <td>611.550</td>\n",
       "    </tr>\n",
       "    <tr>\n",
       "      <th>936</th>\n",
       "      <td>27.0</td>\n",
       "      <td>2204.350</td>\n",
       "    </tr>\n",
       "    <tr>\n",
       "      <th>1082</th>\n",
       "      <td>52.0</td>\n",
       "      <td>1345.850</td>\n",
       "    </tr>\n",
       "    <tr>\n",
       "      <th>1340</th>\n",
       "      <td>27.0</td>\n",
       "      <td>1537.925</td>\n",
       "    </tr>\n",
       "    <tr>\n",
       "      <th>3331</th>\n",
       "      <td>59.0</td>\n",
       "      <td>1188.250</td>\n",
       "    </tr>\n",
       "    <tr>\n",
       "      <th>3826</th>\n",
       "      <td>70.0</td>\n",
       "      <td>1715.150</td>\n",
       "    </tr>\n",
       "    <tr>\n",
       "      <th>4380</th>\n",
       "      <td>45.0</td>\n",
       "      <td>884.725</td>\n",
       "    </tr>\n",
       "    <tr>\n",
       "      <th>5218</th>\n",
       "      <td>20.0</td>\n",
       "      <td>415.900</td>\n",
       "    </tr>\n",
       "    <tr>\n",
       "      <th>6670</th>\n",
       "      <td>13.0</td>\n",
       "      <td>931.550</td>\n",
       "    </tr>\n",
       "    <tr>\n",
       "      <th>6754</th>\n",
       "      <td>42.0</td>\n",
       "      <td>2785.575</td>\n",
       "    </tr>\n",
       "  </tbody>\n",
       "</table>\n",
       "</div>"
      ],
      "text/plain": [
       "      TENURE  TOTALCHARGES\n",
       "488     38.0      1682.050\n",
       "753     30.5       611.550\n",
       "936     27.0      2204.350\n",
       "1082    52.0      1345.850\n",
       "1340    27.0      1537.925\n",
       "3331    59.0      1188.250\n",
       "3826    70.0      1715.150\n",
       "4380    45.0       884.725\n",
       "5218    20.0       415.900\n",
       "6670    13.0       931.550\n",
       "6754    42.0      2785.575"
      ]
     },
     "execution_count": 21,
     "metadata": {},
     "output_type": "execute_result"
    }
   ],
   "source": [
    "df.iloc[missing_rows.index][[\"TENURE\",\"TOTALCHARGES\"]]"
   ]
  },
  {
   "cell_type": "markdown",
   "metadata": {},
   "source": [
    "### New Features"
   ]
  },
  {
   "cell_type": "code",
   "execution_count": 22,
   "metadata": {},
   "outputs": [
    {
     "data": {
      "text/plain": [
       "Index(['CUSTOMERID', 'GENDER', 'SENIORCITIZEN', 'PARTNER', 'DEPENDENTS',\n",
       "       'TENURE', 'PHONESERVICE', 'MULTIPLELINES', 'INTERNETSERVICE',\n",
       "       'ONLINESECURITY', 'ONLINEBACKUP', 'DEVICEPROTECTION', 'TECHSUPPORT',\n",
       "       'STREAMINGTV', 'STREAMINGMOVIES', 'CONTRACT', 'PAPERLESSBILLING',\n",
       "       'PAYMENTMETHOD', 'MONTHLYCHARGES', 'TOTALCHARGES', 'CHURN'],\n",
       "      dtype='object')"
      ]
     },
     "execution_count": 22,
     "metadata": {},
     "output_type": "execute_result"
    }
   ],
   "source": [
    "df.columns"
   ]
  },
  {
   "cell_type": "code",
   "execution_count": 23,
   "metadata": {},
   "outputs": [],
   "source": [
    "service_cols=[\"PHONESERVICE\",\"MULTIPLELINES\",\"INTERNETSERVICE\",\"ONLINESECURITY\",\"ONLINEBACKUP\",\"DEVICEPROTECTION\",\"TECHSUPPORT\",\"STREAMINGTV\",\"STREAMINGMOVIES\"]"
   ]
  },
  {
   "cell_type": "code",
   "execution_count": 24,
   "metadata": {},
   "outputs": [],
   "source": [
    "df[\"NEW_PREMIUM_USER\"]=1\n",
    "for col in service_cols:\n",
    "    if df[col].dtype!=\"O\":\n",
    "        df[\"NEW_PREMIUM_USER\"]*=df[col]\n",
    "    else:\n",
    "        df[\"NEW_PREMIUM_USER\"]*=df[col].apply(lambda x:0 if \"no\" in x or \"No\" in x else 1)"
   ]
  },
  {
   "cell_type": "code",
   "execution_count": 25,
   "metadata": {},
   "outputs": [
    {
     "data": {
      "text/plain": [
       "0    6835\n",
       "1     208\n",
       "Name: NEW_PREMIUM_USER, dtype: int64"
      ]
     },
     "execution_count": 25,
     "metadata": {},
     "output_type": "execute_result"
    }
   ],
   "source": [
    "df[\"NEW_PREMIUM_USER\"].value_counts()"
   ]
  },
  {
   "cell_type": "code",
   "execution_count": 26,
   "metadata": {},
   "outputs": [
    {
     "data": {
      "text/plain": [
       "0    5103\n",
       "1    1940\n",
       "Name: NEW_STREAMING_USER, dtype: int64"
      ]
     },
     "execution_count": 26,
     "metadata": {},
     "output_type": "execute_result"
    }
   ],
   "source": [
    "df[\"NEW_STREAMING_USER\"]=1\n",
    "for col in [\"STREAMINGTV\",\"STREAMINGMOVIES\"]:\n",
    "    if df[col].dtype!=\"O\":\n",
    "        df[\"NEW_STREAMING_USER\"]*=df[col]\n",
    "    else:\n",
    "        df[\"NEW_STREAMING_USER\"]*=df[col].apply(lambda x:0 if \"no\" in x or \"No\" in x else 1)\n",
    "df[\"NEW_STREAMING_USER\"].value_counts()"
   ]
  },
  {
   "cell_type": "code",
   "execution_count": 27,
   "metadata": {},
   "outputs": [
    {
     "data": {
      "text/plain": [
       "0    4072\n",
       "1    2971\n",
       "Name: NEW_PHONE_USER, dtype: int64"
      ]
     },
     "execution_count": 27,
     "metadata": {},
     "output_type": "execute_result"
    }
   ],
   "source": [
    "df[\"NEW_PHONE_USER\"]=1\n",
    "for col in [\"PHONESERVICE\",\"MULTIPLELINES\"]:\n",
    "    if df[col].dtype!=\"O\":\n",
    "        df[\"NEW_PHONE_USER\"]*=df[col]\n",
    "    else:\n",
    "        df[\"NEW_PHONE_USER\"]*=df[col].apply(lambda x:0 if \"no\" in x or \"No\" in x else 1)\n",
    "df[\"NEW_PHONE_USER\"].value_counts()"
   ]
  },
  {
   "cell_type": "code",
   "execution_count": 28,
   "metadata": {},
   "outputs": [
    {
     "data": {
      "text/plain": [
       "0    5576\n",
       "1    1467\n",
       "Name: NEW_INTERNET_USER_WITH_DEPENDENTS, dtype: int64"
      ]
     },
     "execution_count": 28,
     "metadata": {},
     "output_type": "execute_result"
    }
   ],
   "source": [
    "df[\"NEW_INTERNET_USER_WITH_DEPENDENTS\"]=1\n",
    "for col in [\"INTERNETSERVICE\",\"DEPENDENTS\"]:\n",
    "    if df[col].dtype!=\"O\":\n",
    "        df[\"NEW_INTERNET_USER_WITH_DEPENDENTS\"]*=df[col]\n",
    "    else:\n",
    "        df[\"NEW_INTERNET_USER_WITH_DEPENDENTS\"]*=df[col].apply(lambda x:0 if \"no\" in x or \"No\" in x else 1)\n",
    "df[\"NEW_INTERNET_USER_WITH_DEPENDENTS\"].value_counts()"
   ]
  },
  {
   "cell_type": "code",
   "execution_count": 29,
   "metadata": {},
   "outputs": [
    {
     "data": {
      "text/plain": [
       "False    3833\n",
       "True     3210\n",
       "Name: NEW_DISCOUNT, dtype: int64"
      ]
     },
     "execution_count": 29,
     "metadata": {},
     "output_type": "execute_result"
    }
   ],
   "source": [
    "df[\"NEW_DISCOUNT\"]=df.apply(lambda x: True if ((x[\"TENURE\"]*x[\"MONTHLYCHARGES\"]) - x[\"TOTALCHARGES\"]) < 0 else False, axis=1)\n",
    "df[\"NEW_DISCOUNT\"].value_counts()"
   ]
  },
  {
   "cell_type": "code",
   "execution_count": 30,
   "metadata": {},
   "outputs": [
    {
     "data": {
      "text/plain": [
       "0    5151\n",
       "1    1892\n",
       "Name: NEW_DISCOUNT_PAPERLESSBILLING, dtype: int64"
      ]
     },
     "execution_count": 30,
     "metadata": {},
     "output_type": "execute_result"
    }
   ],
   "source": [
    "df[\"NEW_DISCOUNT_PAPERLESSBILLING\"]=1\n",
    "for col in [\"NEW_DISCOUNT\",\"PAPERLESSBILLING\"]:\n",
    "    if df[col].dtype!=\"O\":\n",
    "        df[\"NEW_DISCOUNT_PAPERLESSBILLING\"]*=df[col]\n",
    "    else:\n",
    "        df[\"NEW_DISCOUNT_PAPERLESSBILLING\"]*=df[col].apply(lambda x:0 if \"no\" in x or \"No\" in x else 1)\n",
    "df[\"NEW_DISCOUNT_PAPERLESSBILLING\"].value_counts()"
   ]
  },
  {
   "cell_type": "code",
   "execution_count": 31,
   "metadata": {},
   "outputs": [
    {
     "data": {
      "text/plain": [
       "0    3977\n",
       "1    3066\n",
       "Name: NEW_AUTOPAYMENT, dtype: int64"
      ]
     },
     "execution_count": 31,
     "metadata": {},
     "output_type": "execute_result"
    }
   ],
   "source": [
    "df[\"NEW_AUTOPAYMENT\"] = df[\"PAYMENTMETHOD\"].apply(lambda x: 1 if x in [\"Bank transfer (automatic)\",\"Credit card (automatic)\"] else 0)\n",
    "df[\"NEW_AUTOPAYMENT\"].value_counts()"
   ]
  },
  {
   "cell_type": "code",
   "execution_count": 32,
   "metadata": {},
   "outputs": [
    {
     "data": {
      "text/plain": [
       "0_1_Year    2175\n",
       "5_6_Year    1408\n",
       "1_2_Year    1026\n",
       "2_3_Year     835\n",
       "4_5_Year     834\n",
       "3_4_Year     765\n",
       "Name: NEW_TENURE_YEAR, dtype: int64"
      ]
     },
     "execution_count": 32,
     "metadata": {},
     "output_type": "execute_result"
    }
   ],
   "source": [
    "labels=[\"0_1_Year\",\"1_2_Year\",\"2_3_Year\",\"3_4_Year\",\"4_5_Year\",\"5_6_Year\"]\n",
    "bins=[-1,12,24,36,48,60,72]\n",
    "df[\"NEW_TENURE_YEAR\"]=pd.cut(df[\"TENURE\"],labels=labels,bins=bins)\n",
    "df[\"NEW_TENURE_YEAR\"].value_counts()"
   ]
  },
  {
   "cell_type": "code",
   "execution_count": 33,
   "metadata": {},
   "outputs": [
    {
     "data": {
      "text/plain": [
       "0    2219\n",
       "3    1118\n",
       "2    1033\n",
       "1     966\n",
       "4     852\n",
       "5     571\n",
       "6     284\n",
       "Name: NEW_TOTAL_SERVICE, dtype: int64"
      ]
     },
     "execution_count": 33,
     "metadata": {},
     "output_type": "execute_result"
    }
   ],
   "source": [
    "df[\"NEW_TOTAL_SERVICE\"]=0\n",
    "for col in [\"ONLINESECURITY\",\"ONLINEBACKUP\",\"DEVICEPROTECTION\",\"TECHSUPPORT\",\"STREAMINGTV\",\"STREAMINGMOVIES\"]:\n",
    "    if df[col].dtype!=\"O\":\n",
    "        df[\"NEW_TOTAL_SERVICE\"]+=df[col]\n",
    "    else:\n",
    "        df[\"NEW_TOTAL_SERVICE\"]+=df[col].apply(lambda x:0 if \"no\" in x or \"No\" in x else 1)\n",
    "df[\"NEW_TOTAL_SERVICE\"].value_counts()"
   ]
  },
  {
   "cell_type": "markdown",
   "metadata": {},
   "source": [
    "### Encoding"
   ]
  },
  {
   "cell_type": "code",
   "execution_count": 34,
   "metadata": {},
   "outputs": [
    {
     "name": "stdout",
     "output_type": "stream",
     "text": [
      "Observations = 7043\n",
      "\n",
      "Variables = 30\n",
      "\n",
      "catorical columns = 26\n",
      "\n",
      "catorical but cardinal columns = 1\n",
      "\n",
      "numerical columns = 3\n",
      "\n",
      "numerical but categorical columns = 11\n",
      "\n"
     ]
    }
   ],
   "source": [
    "cat_cols,cat_but_car,num_cols=pp.grabColNames()"
   ]
  },
  {
   "cell_type": "code",
   "execution_count": 35,
   "metadata": {},
   "outputs": [
    {
     "name": "stdout",
     "output_type": "stream",
     "text": [
      "GENDER : 2\n",
      "        Count     Ratio  CHURN_mean\n",
      "Female   3488  0.495244    0.269209\n",
      "Male     3555  0.504756    0.261603\n",
      "\n",
      "\n",
      "PARTNER : 2\n",
      "     Count     Ratio  CHURN_mean\n",
      "No    3641  0.516967    0.329580\n",
      "Yes   3402  0.483033    0.196649\n",
      "\n",
      "\n",
      "DEPENDENTS : 2\n",
      "     Count     Ratio  CHURN_mean\n",
      "No    4933  0.700412    0.312791\n",
      "Yes   2110  0.299588    0.154502\n",
      "\n",
      "\n",
      "PHONESERVICE : 2\n",
      "     Count     Ratio  CHURN_mean\n",
      "No     682  0.096834    0.249267\n",
      "Yes   6361  0.903166    0.267096\n",
      "\n",
      "\n",
      "MULTIPLELINES : 3\n",
      "                  Count     Ratio  CHURN_mean\n",
      "No                 3390  0.481329    0.250442\n",
      "No phone service    682  0.096834    0.249267\n",
      "Yes                2971  0.421837    0.286099\n",
      "\n",
      "\n",
      "INTERNETSERVICE : 3\n",
      "             Count     Ratio  CHURN_mean\n",
      "DSL           2421  0.343746    0.189591\n",
      "Fiber optic   3096  0.439585    0.418928\n",
      "No            1526  0.216669    0.074050\n",
      "\n",
      "\n",
      "ONLINESECURITY : 3\n",
      "                     Count     Ratio  CHURN_mean\n",
      "No                    3498  0.496663    0.417667\n",
      "No internet service   1526  0.216669    0.074050\n",
      "Yes                   2019  0.286668    0.146112\n",
      "\n",
      "\n",
      "ONLINEBACKUP : 3\n",
      "                     Count     Ratio  CHURN_mean\n",
      "No                    3088  0.438450    0.399288\n",
      "No internet service   1526  0.216669    0.074050\n",
      "Yes                   2429  0.344881    0.215315\n",
      "\n",
      "\n",
      "DEVICEPROTECTION : 3\n",
      "                     Count     Ratio  CHURN_mean\n",
      "No                    3095  0.439443    0.391276\n",
      "No internet service   1526  0.216669    0.074050\n",
      "Yes                   2422  0.343888    0.225021\n",
      "\n",
      "\n",
      "TECHSUPPORT : 3\n",
      "                     Count     Ratio  CHURN_mean\n",
      "No                    3473  0.493114    0.416355\n",
      "No internet service   1526  0.216669    0.074050\n",
      "Yes                   2044  0.290217    0.151663\n",
      "\n",
      "\n",
      "STREAMINGTV : 3\n",
      "                     Count     Ratio  CHURN_mean\n",
      "No                    2810  0.398978    0.335231\n",
      "No internet service   1526  0.216669    0.074050\n",
      "Yes                   2707  0.384353    0.300702\n",
      "\n",
      "\n",
      "STREAMINGMOVIES : 3\n",
      "                     Count     Ratio  CHURN_mean\n",
      "No                    2785  0.395428    0.336804\n",
      "No internet service   1526  0.216669    0.074050\n",
      "Yes                   2732  0.387903    0.299414\n",
      "\n",
      "\n",
      "CONTRACT : 3\n",
      "                Count     Ratio  CHURN_mean\n",
      "Month-to-month   3875  0.550192    0.427097\n",
      "One year         1473  0.209144    0.112695\n",
      "Two year         1695  0.240664    0.028319\n",
      "\n",
      "\n",
      "PAPERLESSBILLING : 2\n",
      "     Count     Ratio  CHURN_mean\n",
      "No    2872  0.407781    0.163301\n",
      "Yes   4171  0.592219    0.335651\n",
      "\n",
      "\n",
      "PAYMENTMETHOD : 4\n",
      "                           Count     Ratio  CHURN_mean\n",
      "Bank transfer (automatic)   1544  0.219225    0.167098\n",
      "Credit card (automatic)     1522  0.216101    0.152431\n",
      "Electronic check            2365  0.335794    0.452854\n",
      "Mailed check                1612  0.228880    0.191067\n",
      "\n",
      "\n",
      "SENIORCITIZEN : 2\n",
      "   Count     Ratio  CHURN_mean\n",
      "0   5901  0.837853    0.236062\n",
      "1   1142  0.162147    0.416813\n",
      "\n",
      "\n",
      "CHURN : 2\n",
      "   Count    Ratio  CHURN_mean\n",
      "0   5174  0.73463         0.0\n",
      "1   1869  0.26537         1.0\n",
      "\n",
      "\n",
      "NEW_PREMIUM_USER : 2\n",
      "   Count     Ratio  CHURN_mean\n",
      "0   6835  0.970467    0.271836\n",
      "1    208  0.029533    0.052885\n",
      "\n",
      "\n",
      "NEW_STREAMING_USER : 2\n",
      "   Count     Ratio  CHURN_mean\n",
      "0   5103  0.724549     0.25436\n",
      "1   1940  0.275451     0.29433\n",
      "\n",
      "\n",
      "NEW_PHONE_USER : 2\n",
      "   Count     Ratio  CHURN_mean\n",
      "0   4072  0.578163    0.250246\n",
      "1   2971  0.421837    0.286099\n",
      "\n",
      "\n",
      "NEW_INTERNET_USER_WITH_DEPENDENTS : 2\n",
      "   Count     Ratio  CHURN_mean\n",
      "0   5576  0.791708    0.281743\n",
      "1   1467  0.208292    0.203136\n",
      "\n",
      "\n",
      "NEW_DISCOUNT : 2\n",
      "       Count     Ratio  CHURN_mean\n",
      "False   3833  0.544228    0.295069\n",
      "True    3210  0.455772    0.229907\n",
      "\n",
      "\n",
      "NEW_DISCOUNT_PAPERLESSBILLING : 2\n",
      "   Count     Ratio  CHURN_mean\n",
      "0   5151  0.731364    0.253155\n",
      "1   1892  0.268636    0.298626\n",
      "\n",
      "\n",
      "NEW_AUTOPAYMENT : 2\n",
      "   Count     Ratio  CHURN_mean\n",
      "0   3977  0.564674    0.346744\n",
      "1   3066  0.435326    0.159817\n",
      "\n",
      "\n",
      "NEW_TENURE_YEAR : 6\n",
      "          Count     Ratio  CHURN_mean\n",
      "0_1_Year   2175  0.308817    0.476782\n",
      "1_2_Year   1026  0.145677    0.286550\n",
      "2_3_Year    835  0.118557    0.215569\n",
      "3_4_Year    765  0.108618    0.189542\n",
      "4_5_Year    834  0.118415    0.143885\n",
      "5_6_Year   1408  0.199915    0.066051\n",
      "\n",
      "\n",
      "NEW_TOTAL_SERVICE : 7\n",
      "   Count     Ratio  CHURN_mean\n",
      "0   2219  0.315065    0.214060\n",
      "1    966  0.137157    0.457557\n",
      "2   1033  0.146670    0.358180\n",
      "3   1118  0.158739    0.273703\n",
      "4    852  0.120971    0.223005\n",
      "5    571  0.081073    0.124343\n",
      "6    284  0.040324    0.052817\n",
      "\n",
      "\n"
     ]
    }
   ],
   "source": [
    "pp.rareAnalyser(cat_cols=cat_cols,target=\"CHURN\")"
   ]
  },
  {
   "cell_type": "code",
   "execution_count": 36,
   "metadata": {},
   "outputs": [],
   "source": [
    "cat_cols.remove(\"CHURN\")\n",
    "df=pp.oneHotEncoder(cat_cols=cat_cols)"
   ]
  },
  {
   "cell_type": "code",
   "execution_count": 37,
   "metadata": {},
   "outputs": [
    {
     "data": {
      "text/html": [
       "<div>\n",
       "<style scoped>\n",
       "    .dataframe tbody tr th:only-of-type {\n",
       "        vertical-align: middle;\n",
       "    }\n",
       "\n",
       "    .dataframe tbody tr th {\n",
       "        vertical-align: top;\n",
       "    }\n",
       "\n",
       "    .dataframe thead th {\n",
       "        text-align: right;\n",
       "    }\n",
       "</style>\n",
       "<table border=\"1\" class=\"dataframe\">\n",
       "  <thead>\n",
       "    <tr style=\"text-align: right;\">\n",
       "      <th></th>\n",
       "      <th>CUSTOMERID</th>\n",
       "      <th>TENURE</th>\n",
       "      <th>MONTHLYCHARGES</th>\n",
       "      <th>TOTALCHARGES</th>\n",
       "      <th>CHURN</th>\n",
       "      <th>GENDER_Male</th>\n",
       "      <th>PARTNER_Yes</th>\n",
       "      <th>DEPENDENTS_Yes</th>\n",
       "      <th>PHONESERVICE_Yes</th>\n",
       "      <th>MULTIPLELINES_No phone service</th>\n",
       "      <th>...</th>\n",
       "      <th>NEW_TENURE_YEAR_2_3_Year</th>\n",
       "      <th>NEW_TENURE_YEAR_3_4_Year</th>\n",
       "      <th>NEW_TENURE_YEAR_4_5_Year</th>\n",
       "      <th>NEW_TENURE_YEAR_5_6_Year</th>\n",
       "      <th>NEW_TOTAL_SERVICE_1</th>\n",
       "      <th>NEW_TOTAL_SERVICE_2</th>\n",
       "      <th>NEW_TOTAL_SERVICE_3</th>\n",
       "      <th>NEW_TOTAL_SERVICE_4</th>\n",
       "      <th>NEW_TOTAL_SERVICE_5</th>\n",
       "      <th>NEW_TOTAL_SERVICE_6</th>\n",
       "    </tr>\n",
       "  </thead>\n",
       "  <tbody>\n",
       "    <tr>\n",
       "      <th>0</th>\n",
       "      <td>7590-VHVEG</td>\n",
       "      <td>1.0</td>\n",
       "      <td>29.85</td>\n",
       "      <td>29.85</td>\n",
       "      <td>0</td>\n",
       "      <td>0</td>\n",
       "      <td>1</td>\n",
       "      <td>0</td>\n",
       "      <td>0</td>\n",
       "      <td>1</td>\n",
       "      <td>...</td>\n",
       "      <td>0</td>\n",
       "      <td>0</td>\n",
       "      <td>0</td>\n",
       "      <td>0</td>\n",
       "      <td>1</td>\n",
       "      <td>0</td>\n",
       "      <td>0</td>\n",
       "      <td>0</td>\n",
       "      <td>0</td>\n",
       "      <td>0</td>\n",
       "    </tr>\n",
       "    <tr>\n",
       "      <th>1</th>\n",
       "      <td>5575-GNVDE</td>\n",
       "      <td>34.0</td>\n",
       "      <td>56.95</td>\n",
       "      <td>1889.50</td>\n",
       "      <td>0</td>\n",
       "      <td>1</td>\n",
       "      <td>0</td>\n",
       "      <td>0</td>\n",
       "      <td>1</td>\n",
       "      <td>0</td>\n",
       "      <td>...</td>\n",
       "      <td>1</td>\n",
       "      <td>0</td>\n",
       "      <td>0</td>\n",
       "      <td>0</td>\n",
       "      <td>0</td>\n",
       "      <td>1</td>\n",
       "      <td>0</td>\n",
       "      <td>0</td>\n",
       "      <td>0</td>\n",
       "      <td>0</td>\n",
       "    </tr>\n",
       "    <tr>\n",
       "      <th>2</th>\n",
       "      <td>3668-QPYBK</td>\n",
       "      <td>2.0</td>\n",
       "      <td>53.85</td>\n",
       "      <td>108.15</td>\n",
       "      <td>1</td>\n",
       "      <td>1</td>\n",
       "      <td>0</td>\n",
       "      <td>0</td>\n",
       "      <td>1</td>\n",
       "      <td>0</td>\n",
       "      <td>...</td>\n",
       "      <td>0</td>\n",
       "      <td>0</td>\n",
       "      <td>0</td>\n",
       "      <td>0</td>\n",
       "      <td>0</td>\n",
       "      <td>1</td>\n",
       "      <td>0</td>\n",
       "      <td>0</td>\n",
       "      <td>0</td>\n",
       "      <td>0</td>\n",
       "    </tr>\n",
       "    <tr>\n",
       "      <th>3</th>\n",
       "      <td>7795-CFOCW</td>\n",
       "      <td>45.0</td>\n",
       "      <td>42.30</td>\n",
       "      <td>1840.75</td>\n",
       "      <td>0</td>\n",
       "      <td>1</td>\n",
       "      <td>0</td>\n",
       "      <td>0</td>\n",
       "      <td>0</td>\n",
       "      <td>1</td>\n",
       "      <td>...</td>\n",
       "      <td>0</td>\n",
       "      <td>1</td>\n",
       "      <td>0</td>\n",
       "      <td>0</td>\n",
       "      <td>0</td>\n",
       "      <td>0</td>\n",
       "      <td>1</td>\n",
       "      <td>0</td>\n",
       "      <td>0</td>\n",
       "      <td>0</td>\n",
       "    </tr>\n",
       "    <tr>\n",
       "      <th>4</th>\n",
       "      <td>9237-HQITU</td>\n",
       "      <td>2.0</td>\n",
       "      <td>70.70</td>\n",
       "      <td>151.65</td>\n",
       "      <td>1</td>\n",
       "      <td>0</td>\n",
       "      <td>0</td>\n",
       "      <td>0</td>\n",
       "      <td>1</td>\n",
       "      <td>0</td>\n",
       "      <td>...</td>\n",
       "      <td>0</td>\n",
       "      <td>0</td>\n",
       "      <td>0</td>\n",
       "      <td>0</td>\n",
       "      <td>0</td>\n",
       "      <td>0</td>\n",
       "      <td>0</td>\n",
       "      <td>0</td>\n",
       "      <td>0</td>\n",
       "      <td>0</td>\n",
       "    </tr>\n",
       "  </tbody>\n",
       "</table>\n",
       "<p>5 rows × 50 columns</p>\n",
       "</div>"
      ],
      "text/plain": [
       "   CUSTOMERID  TENURE  MONTHLYCHARGES  TOTALCHARGES  CHURN  GENDER_Male  \\\n",
       "0  7590-VHVEG     1.0           29.85         29.85      0            0   \n",
       "1  5575-GNVDE    34.0           56.95       1889.50      0            1   \n",
       "2  3668-QPYBK     2.0           53.85        108.15      1            1   \n",
       "3  7795-CFOCW    45.0           42.30       1840.75      0            1   \n",
       "4  9237-HQITU     2.0           70.70        151.65      1            0   \n",
       "\n",
       "   PARTNER_Yes  DEPENDENTS_Yes  PHONESERVICE_Yes  \\\n",
       "0            1               0                 0   \n",
       "1            0               0                 1   \n",
       "2            0               0                 1   \n",
       "3            0               0                 0   \n",
       "4            0               0                 1   \n",
       "\n",
       "   MULTIPLELINES_No phone service  ...  NEW_TENURE_YEAR_2_3_Year  \\\n",
       "0                               1  ...                         0   \n",
       "1                               0  ...                         1   \n",
       "2                               0  ...                         0   \n",
       "3                               1  ...                         0   \n",
       "4                               0  ...                         0   \n",
       "\n",
       "   NEW_TENURE_YEAR_3_4_Year  NEW_TENURE_YEAR_4_5_Year  \\\n",
       "0                         0                         0   \n",
       "1                         0                         0   \n",
       "2                         0                         0   \n",
       "3                         1                         0   \n",
       "4                         0                         0   \n",
       "\n",
       "   NEW_TENURE_YEAR_5_6_Year  NEW_TOTAL_SERVICE_1  NEW_TOTAL_SERVICE_2  \\\n",
       "0                         0                    1                    0   \n",
       "1                         0                    0                    1   \n",
       "2                         0                    0                    1   \n",
       "3                         0                    0                    0   \n",
       "4                         0                    0                    0   \n",
       "\n",
       "   NEW_TOTAL_SERVICE_3  NEW_TOTAL_SERVICE_4  NEW_TOTAL_SERVICE_5  \\\n",
       "0                    0                    0                    0   \n",
       "1                    0                    0                    0   \n",
       "2                    0                    0                    0   \n",
       "3                    1                    0                    0   \n",
       "4                    0                    0                    0   \n",
       "\n",
       "   NEW_TOTAL_SERVICE_6  \n",
       "0                    0  \n",
       "1                    0  \n",
       "2                    0  \n",
       "3                    0  \n",
       "4                    0  \n",
       "\n",
       "[5 rows x 50 columns]"
      ]
     },
     "execution_count": 37,
     "metadata": {},
     "output_type": "execute_result"
    }
   ],
   "source": [
    "df.head()"
   ]
  },
  {
   "cell_type": "code",
   "execution_count": 38,
   "metadata": {},
   "outputs": [
    {
     "name": "stdout",
     "output_type": "stream",
     "text": [
      "Observations = 7043\n",
      "\n",
      "Variables = 50\n",
      "\n",
      "catorical columns = 46\n",
      "\n",
      "catorical but cardinal columns = 1\n",
      "\n",
      "numerical columns = 3\n",
      "\n",
      "numerical but categorical columns = 46\n",
      "\n"
     ]
    }
   ],
   "source": [
    "cat_cols,cat_but_car,num_cols=pp.grabColNames()"
   ]
  },
  {
   "cell_type": "code",
   "execution_count": 39,
   "metadata": {},
   "outputs": [],
   "source": [
    "df.columns=[col.replace(\" \",\"_\").upper() for col in df.columns]"
   ]
  },
  {
   "cell_type": "code",
   "execution_count": 40,
   "metadata": {},
   "outputs": [],
   "source": [
    "df.columns=[col.strip() for col in df.columns]"
   ]
  },
  {
   "cell_type": "markdown",
   "metadata": {},
   "source": [
    "# Training"
   ]
  },
  {
   "cell_type": "code",
   "execution_count": 41,
   "metadata": {},
   "outputs": [],
   "source": [
    "y=df[[\"CHURN\"]]\n",
    "X=df.drop([\"CHURN\",\"CUSTOMERID\"],axis=1)"
   ]
  },
  {
   "cell_type": "code",
   "execution_count": 42,
   "metadata": {},
   "outputs": [],
   "source": [
    "from sklearn.model_selection import train_test_split, cross_val_score,GridSearchCV,cross_validate\n",
    "from sklearn.metrics import mean_squared_error"
   ]
  },
  {
   "cell_type": "code",
   "execution_count": 43,
   "metadata": {},
   "outputs": [],
   "source": [
    "X_train, X_test, y_train, y_test = train_test_split(X,y,test_size=0.2,random_state=42)"
   ]
  },
  {
   "cell_type": "code",
   "execution_count": 44,
   "metadata": {},
   "outputs": [],
   "source": [
    "import warnings\n",
    "from sklearn.exceptions import ConvergenceWarning\n",
    "\n",
    "# from catboost import CatBoostClassifier\n",
    "from lightgbm import LGBMClassifier\n",
    "from sklearn.ensemble import RandomForestClassifier\n",
    "from sklearn.linear_model import LogisticRegression\n",
    "from sklearn.neighbors import KNeighborsClassifier\n",
    "from sklearn.tree import DecisionTreeClassifier\n",
    "from xgboost import XGBClassifier"
   ]
  },
  {
   "cell_type": "code",
   "execution_count": 45,
   "metadata": {},
   "outputs": [],
   "source": [
    "warnings.simplefilter(action='ignore', category=FutureWarning)\n",
    "warnings.simplefilter(\"ignore\", category=ConvergenceWarning)"
   ]
  },
  {
   "cell_type": "code",
   "execution_count": 46,
   "metadata": {},
   "outputs": [],
   "source": [
    "models = [('LR', LogisticRegression()),\n",
    "          ('KNN', KNeighborsClassifier()),\n",
    "          ('CART', DecisionTreeClassifier()),\n",
    "          ('RF', RandomForestClassifier()),\n",
    "          (\"XGB\", XGBClassifier(objective='reg:squarederror')),\n",
    "          (\"LightGBM\", LGBMClassifier(force_col_wise=True,verbose=-1))\n",
    "        #   (\"CatBoost\", CatBoostClassifier(verbose=False))\n",
    "          ]\n"
   ]
  },
  {
   "cell_type": "code",
   "execution_count": 47,
   "metadata": {},
   "outputs": [
    {
     "name": "stdout",
     "output_type": "stream",
     "text": [
      "########## LR ##########\n",
      "Accuracy: 0.8038\n",
      "Auc: 0.8434\n",
      "Recall: 0.5292\n",
      "Precision: 0.6636\n",
      "F1: 0.5887\n",
      "\n",
      "########## KNN ##########\n",
      "Accuracy: 0.7606\n",
      "Auc: 0.7447\n",
      "Recall: 0.4435\n",
      "Precision: 0.5618\n",
      "F1: 0.4956\n",
      "\n",
      "########## CART ##########\n",
      "Accuracy: 0.7243\n",
      "Auc: 0.6512\n",
      "Recall: 0.4933\n",
      "Precision: 0.4814\n",
      "F1: 0.4871\n",
      "\n",
      "########## RF ##########\n",
      "Accuracy: 0.7866\n",
      "Auc: 0.8213\n",
      "Recall: 0.4671\n",
      "Precision: 0.6335\n",
      "F1: 0.5376\n",
      "\n",
      "########## XGB ##########\n",
      "Accuracy: 0.7759\n",
      "Auc: 0.7983\n",
      "Recall: 0.4992\n",
      "Precision: 0.5929\n",
      "F1: 0.5419\n",
      "\n",
      "########## LightGBM ##########\n",
      "Accuracy: 0.7933\n",
      "Auc: 0.8344\n",
      "Recall: 0.5233\n",
      "Precision: 0.6348\n",
      "F1: 0.5734\n",
      "\n"
     ]
    }
   ],
   "source": [
    "for name, model in models:\n",
    "\n",
    "    cv_results = cross_validate(model, X, y.values.ravel(), cv=5, scoring=[\"accuracy\", \"f1\", \"roc_auc\", \"precision\", \"recall\"])\n",
    "    print(f\"########## {name} ##########\")\n",
    "    print(f\"Accuracy: {round(cv_results['test_accuracy'].mean(), 4)}\")\n",
    "    print(f\"Auc: {round(cv_results['test_roc_auc'].mean(), 4)}\")\n",
    "    print(f\"Recall: {round(cv_results['test_recall'].mean(), 4)}\")\n",
    "    print(f\"Precision: {round(cv_results['test_precision'].mean(), 4)}\")\n",
    "    print(f\"F1: {round(cv_results['test_f1'].mean(), 4)}\\n\")"
   ]
  },
  {
   "cell_type": "markdown",
   "metadata": {},
   "source": [
    "## Optimization"
   ]
  },
  {
   "cell_type": "code",
   "execution_count": 48,
   "metadata": {},
   "outputs": [],
   "source": [
    "model=LogisticRegression()"
   ]
  },
  {
   "cell_type": "code",
   "execution_count": 49,
   "metadata": {},
   "outputs": [
    {
     "data": {
      "text/plain": [
       "{'C': 1.0,\n",
       " 'class_weight': None,\n",
       " 'dual': False,\n",
       " 'fit_intercept': True,\n",
       " 'intercept_scaling': 1,\n",
       " 'l1_ratio': None,\n",
       " 'max_iter': 100,\n",
       " 'multi_class': 'auto',\n",
       " 'n_jobs': None,\n",
       " 'penalty': 'l2',\n",
       " 'random_state': None,\n",
       " 'solver': 'lbfgs',\n",
       " 'tol': 0.0001,\n",
       " 'verbose': 0,\n",
       " 'warm_start': False}"
      ]
     },
     "execution_count": 49,
     "metadata": {},
     "output_type": "execute_result"
    }
   ],
   "source": [
    "model.get_params()"
   ]
  },
  {
   "cell_type": "code",
   "execution_count": 50,
   "metadata": {},
   "outputs": [],
   "source": [
    "lr_params = {\n",
    "    \"max_iter\": [50,100],\n",
    "    \"l1_ratio\":[None,0,1],\n",
    "    \"solver\":[\"lbfgs\",\"sag\",\"saga\",\"newton-cg\"]\n",
    "    }"
   ]
  },
  {
   "cell_type": "code",
   "execution_count": 51,
   "metadata": {},
   "outputs": [
    {
     "name": "stdout",
     "output_type": "stream",
     "text": [
      "Fitting 5 folds for each of 24 candidates, totalling 120 fits\n"
     ]
    },
    {
     "name": "stderr",
     "output_type": "stream",
     "text": [
      "C:\\Users\\pc\\AppData\\Local\\Packages\\PythonSoftwareFoundation.Python.3.10_qbz5n2kfra8p0\\LocalCache\\local-packages\\Python310\\site-packages\\sklearn\\utils\\validation.py:1143: DataConversionWarning: A column-vector y was passed when a 1d array was expected. Please change the shape of y to (n_samples, ), for example using ravel().\n",
      "  y = column_or_1d(y, warn=True)\n"
     ]
    }
   ],
   "source": [
    "lgbm_gs_best = GridSearchCV(model,\n",
    "                            lr_params,\n",
    "                            cv=5,\n",
    "                            n_jobs=-1,\n",
    "                            verbose=True).fit(X, y)"
   ]
  },
  {
   "cell_type": "code",
   "execution_count": 52,
   "metadata": {},
   "outputs": [
    {
     "data": {
      "text/plain": [
       "{'l1_ratio': None, 'max_iter': 50, 'solver': 'newton-cg'}"
      ]
     },
     "execution_count": 52,
     "metadata": {},
     "output_type": "execute_result"
    }
   ],
   "source": [
    "lgbm_gs_best.best_params_"
   ]
  },
  {
   "cell_type": "markdown",
   "metadata": {},
   "source": [
    "## Results"
   ]
  },
  {
   "cell_type": "code",
   "execution_count": 53,
   "metadata": {},
   "outputs": [
    {
     "name": "stdout",
     "output_type": "stream",
     "text": [
      "Accuracy: 0.8035\n",
      "Auc: 0.8463\n",
      "Recall: 0.5302\n",
      "Precision: 0.6622\n",
      "F1: 0.5888\n",
      "\n"
     ]
    }
   ],
   "source": [
    "final_model = model.set_params(**lgbm_gs_best.best_params_).fit(X, y.values.ravel())\n",
    "\n",
    "cv_results = cross_validate(final_model, X, y.values.ravel(), cv=5, scoring=[\"accuracy\", \"f1\", \"roc_auc\", \"precision\", \"recall\"])\n",
    "print(f\"Accuracy: {round(cv_results['test_accuracy'].mean(), 4)}\")\n",
    "print(f\"Auc: {round(cv_results['test_roc_auc'].mean(), 4)}\")\n",
    "print(f\"Recall: {round(cv_results['test_recall'].mean(), 4)}\")\n",
    "print(f\"Precision: {round(cv_results['test_precision'].mean(), 4)}\")\n",
    "print(f\"F1: {round(cv_results['test_f1'].mean(), 4)}\\n\")\n"
   ]
  },
  {
   "cell_type": "code",
   "execution_count": 54,
   "metadata": {},
   "outputs": [
    {
     "data": {
      "image/png": "[encoded data removed]",
      "text/plain": [
       "<Figure size 1000x1000 with 1 Axes>"
      ]
     },
     "metadata": {},
     "output_type": "display_data"
    }
   ],
   "source": [
    "pp.plotImportance(model=final_model,features=X)"
   ]
  },
  {
   "cell_type": "code",
   "execution_count": 56,
   "metadata": {},
   "outputs": [
    {
     "data": {
      "image/png": "[encoded data removed]",
      "text/plain": [
       "<Figure size 640x480 with 2 Axes>"
      ]
     },
     "metadata": {},
     "output_type": "display_data"
    }
   ],
   "source": [
    "pp.plotConfusionMatrix(y=y,y_pred=final_model.predict(X))"
   ]
  }
 ],
 "metadata": {
  "kernelspec": {
   "display_name": "Python 3",
   "language": "python",
   "name": "python3"
  },
  "language_info": {
   "codemirror_mode": {
    "name": "ipython",
    "version": 3
   },
   "file_extension": ".py",
   "mimetype": "text/x-python",
   "name": "python",
   "nbconvert_exporter": "python",
   "pygments_lexer": "ipython3",
   "version": "3.10.7"
  },
  "orig_nbformat": 4
 },
 "nbformat": 4,
 "nbformat_minor": 2
}
